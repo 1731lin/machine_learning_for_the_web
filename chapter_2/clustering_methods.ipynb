{
 "cells": [
  {
   "cell_type": "code",
   "execution_count": 2,
   "metadata": {
    "collapsed": true
   },
   "outputs": [],
   "source": [
    "from matplotlib import pyplot as plt\n",
    "import numpy as np"
   ]
  },
  {
   "cell_type": "code",
   "execution_count": 5,
   "metadata": {
    "collapsed": false
   },
   "outputs": [
    {
     "name": "stderr",
     "output_type": "stream",
     "text": [
      "/opt/local/Library/Frameworks/Python.framework/Versions/2.7/lib/python2.7/site-packages/matplotlib/collections.py:571: FutureWarning: elementwise comparison failed; returning scalar instead, but in the future will perform elementwise comparison\n",
      "  if self._edgecolors == str('face'):\n"
     ]
    }
   ],
   "source": [
    "#Training and comparison of the clustering methods\n",
    "np.random.seed(4711)  # for repeatability \n",
    "c1 = np.random.multivariate_normal([10, 0], [[3, 1], [1, 4]], size=[100,])\n",
    "l1 = np.zeros(100)\n",
    "l2 = np.ones(100)\n",
    "c2 = np.random.multivariate_normal([0, 10], [[3, 1], [1, 4]], size=[100,])\n",
    "#add noise:\n",
    "np.random.seed(1)  # for repeatability \n",
    "noise1x = np.random.normal(0,2,100)\n",
    "noise1y = np.random.normal(0,8,100)\n",
    "noise2 = np.random.normal(0,8,100)\n",
    "c1[:,0] += noise1x\n",
    "c1[:,1] += noise1y\n",
    "c2[:,1] += noise2\n",
    "\n",
    "fig = plt.figure(figsize=(20,15))\n",
    "ax = fig.add_subplot(111)\n",
    "ax.set_xlabel('x',fontsize=30)\n",
    "ax.set_ylabel('y',fontsize=30)\n",
    "fig.suptitle('classes',fontsize=30)\n",
    "labels = np.concatenate((l1,l2),)\n",
    "X = np.concatenate((c1, c2),)\n",
    "plt.scatter(X[:,0], X[:,1],c=labels,cmap='prism',s=50)\n",
    "fig.savefig('classes.png')"
   ]
  },
  {
   "cell_type": "code",
   "execution_count": 6,
   "metadata": {
    "collapsed": false
   },
   "outputs": [],
   "source": [
    "from sklearn import mixture\n",
    "from scipy.cluster.hierarchy import linkage\n",
    "from scipy.cluster.hierarchy import fcluster\n",
    "from sklearn.cluster import KMeans\n",
    "from sklearn.cluster import MeanShift\n",
    "from sklearn.metrics import homogeneity_completeness_v_measure\n",
    "\n",
    "fig, ((axis1, axis2), (axis3, axis4)) = plt.subplots(2, 2, sharex='col', sharey='row')\n",
    "\n",
    "#k-means\n",
    "kmeans = KMeans(n_clusters=2)\n",
    "kmeans.fit(X)\n",
    "pred_kmeans = kmeans.labels_\n",
    "plt.scatter(X[:,0], X[:,1], c=kmeans.labels_, cmap='prism')  # plot points with cluster dependent colors\n",
    "axis1.scatter(X[:,0], X[:,1], c=kmeans.labels_, cmap='prism')\n",
    "axis1.set_ylabel('y',fontsize=40)\n",
    "axis1.set_title('k-means',fontsize=20)\n",
    "\n",
    "#mean-shift\n",
    "ms = MeanShift(bandwidth=7)\n",
    "ms.fit(X)\n",
    "pred_ms = ms.labels_\n",
    "axis2.scatter(X[:,0], X[:,1], c=pred_ms, cmap='prism')\n",
    "axis2.set_title('mean-shift',fontsize=20)\n",
    "\n",
    "#gaussian mixture\n",
    "g = mixture.GMM(n_components=2)\n",
    "g.fit(X) \n",
    "pred_gmm = g.predict(X)\n",
    "axis3.scatter(X[:,0], X[:,1], c=pred_gmm, cmap='prism')\n",
    "axis3.set_xlabel('x',fontsize=40)\n",
    "axis3.set_ylabel('y',fontsize=40)\n",
    "axis3.set_title('gaussian mixture',fontsize=20)\n",
    "\n",
    "#hierarchical\n",
    "# generate the linkage matrix\n",
    "Z = linkage(X, 'ward')\n",
    "max_d = 90\n",
    "pred_h = fcluster(Z, max_d, criterion='distance')\n",
    "axis4.scatter(X[:,0], X[:,1], c=pred_h, cmap='prism')\n",
    "axis4.set_xlabel('x',fontsize=40)\n",
    "axis4.set_title('hierarchical ward',fontsize=20)\n",
    "fig.set_size_inches(18.5,10.5)\n",
    "fig.savefig('comp_clustering.png', dpi=100)"
   ]
  },
  {
   "cell_type": "code",
   "execution_count": 7,
   "metadata": {
    "collapsed": false
   },
   "outputs": [],
   "source": [
    "from scipy.cluster.hierarchy import dendrogram\n",
    "fig = plt.figure(figsize=(20,15))\n",
    "plt.title('Hierarchical Clustering Dendrogram',fontsize=30)\n",
    "plt.xlabel('data point index (or cluster index)',fontsize=30)\n",
    "plt.ylabel('distance (ward)',fontsize=30)\n",
    "dendrogram(\n",
    "    Z,\n",
    "    truncate_mode='lastp',  # show only the last p merged clusters\n",
    "    p=12,\n",
    "    leaf_rotation=90.,\n",
    "    leaf_font_size=12.,\n",
    "    show_contracted=True,\n",
    ")\n",
    "fig.savefig('dendrogram.png')"
   ]
  },
  {
   "cell_type": "code",
   "execution_count": 8,
   "metadata": {
    "collapsed": false
   },
   "outputs": [
    {
     "name": "stdout",
     "output_type": "stream",
     "text": [
      "kmeans measures, homogeneity: 0.25910415428  completeness: 0.259403626429  v-measure: 0.259253803872  silhouette score: 0.409469791511\n",
      "mean-shift measures, homogeneity: 0.657373750073  completeness: 0.662158204648  v-measure: 0.65975730345  silhouette score: 0.40117810244\n",
      "gaussian mixture model measures, homogeneity: 0.959531296098  completeness: 0.959600517797  v-measure: 0.959565905699  silhouette score: 0.380255218681\n",
      "hierarchical (ward) measures, homogeneity: 0.443243266832  completeness: 0.302192189569  v-measure: 0.359372906576  silhouette score: 0.322892391356\n"
     ]
    }
   ],
   "source": [
    "from sklearn.metrics import homogeneity_completeness_v_measure\n",
    "from sklearn.metrics import silhouette_score\n",
    "res = homogeneity_completeness_v_measure(labels,pred_kmeans)\n",
    "print 'kmeans measures, homogeneity:',res[0],' completeness:',res[1],' v-measure:',res[2],' silhouette score:',silhouette_score(X,pred_kmeans)\n",
    "res = homogeneity_completeness_v_measure(labels,pred_ms)\n",
    "print 'mean-shift measures, homogeneity:',res[0],' completeness:',res[1],' v-measure:',res[2],' silhouette score:',silhouette_score(X,pred_ms)\n",
    "res = homogeneity_completeness_v_measure(labels,pred_gmm)\n",
    "print 'gaussian mixture model measures, homogeneity:',res[0],' completeness:',res[1],' v-measure:',res[2],' silhouette score:',silhouette_score(X,pred_gmm)\n",
    "res = homogeneity_completeness_v_measure(labels,pred_h)\n",
    "print 'hierarchical (ward) measures, homogeneity:',res[0],' completeness:',res[1],' v-measure:',res[2],' silhouette score:',silhouette_score(X,pred_h)"
   ]
  },
  {
   "cell_type": "code",
   "execution_count": null,
   "metadata": {
    "collapsed": true
   },
   "outputs": [],
   "source": []
  }
 ],
 "metadata": {
  "kernelspec": {
   "display_name": "Python 2",
   "language": "python",
   "name": "python2"
  },
  "language_info": {
   "codemirror_mode": {
    "name": "ipython",
    "version": 2
   },
   "file_extension": ".py",
   "mimetype": "text/x-python",
   "name": "python",
   "nbconvert_exporter": "python",
   "pygments_lexer": "ipython2",
   "version": "2.7.11"
  }
 },
 "nbformat": 4,
 "nbformat_minor": 0
}
